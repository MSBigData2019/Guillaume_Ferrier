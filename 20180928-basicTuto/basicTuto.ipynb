{
 "cells": [
  {
   "cell_type": "markdown",
   "metadata": {},
   "source": [
    "# BASIC String Exercices\n",
    "# String1.py"
   ]
  },
  {
   "cell_type": "raw",
   "metadata": {},
   "source": [
    "# A. donuts\n",
    "# Given an int count of a number of donuts, return a string\n",
    "# of the form 'Number of donuts: <count>', where <count> is the number\n",
    "# passed in. However, if the count is 10 or more, then use the word 'many'\n",
    "# instead of the actual count.\n",
    "# So donuts(5) returns 'Number of donuts: 5'\n",
    "# and donuts(23) returns 'Number of donuts: many'\n",
    "def donuts(count):\n",
    "  # +++your code here+++\n",
    "  return\n"
   ]
  },
  {
   "cell_type": "code",
   "execution_count": 5,
   "metadata": {},
   "outputs": [
    {
     "name": "stdout",
     "output_type": "stream",
     "text": [
      "Number of donuts: 2 Number of donuts: many\n"
     ]
    }
   ],
   "source": [
    "def donuts(count):\n",
    "    return 'Number of donuts: '+(str(count) if count < 10 else 'many')\n",
    "print(donuts(2),donuts(20));"
   ]
  },
  {
   "cell_type": "raw",
   "metadata": {},
   "source": [
    "# B. both_ends\n",
    "# Given a string s, return a string made of the first 2\n",
    "# and the last 2 chars of the original string,\n",
    "# so 'spring' yields 'spng'. However, if the string length\n",
    "# is less than 2, return instead the empty string.\n",
    "def both_ends(s):\n",
    "  # +++your code here+++\n",
    "  return\n"
   ]
  },
  {
   "cell_type": "code",
   "execution_count": 11,
   "metadata": {},
   "outputs": [
    {
     "name": "stdout",
     "output_type": "stream",
     "text": [
      "spng\n"
     ]
    }
   ],
   "source": [
    "def both_ends(s):\n",
    "    if len(s) < 2 : return ''\n",
    "    return s[0:2]+s[-2:]\n",
    "\n",
    "print(both_ends('spring'))"
   ]
  },
  {
   "cell_type": "raw",
   "metadata": {},
   "source": [
    "# C. fix_start\n",
    "# Given a string s, return a string\n",
    "# where all occurences of its first char have\n",
    "# been changed to '*', except do not change\n",
    "# the first char itself.\n",
    "# e.g. 'babble' yields 'ba**le'\n",
    "# Assume that the string is length 1 or more.\n",
    "# Hint: s.replace(stra, strb) returns a version of string s\n",
    "# where all instances of stra have been replaced by strb.\n",
    "def fix_start(s):\n",
    "  # +++your code here+++\n",
    "  return\n"
   ]
  },
  {
   "cell_type": "code",
   "execution_count": 16,
   "metadata": {},
   "outputs": [
    {
     "name": "stdout",
     "output_type": "stream",
     "text": [
      "babble\n",
      "ba**le\n"
     ]
    }
   ],
   "source": [
    "def fix_start(s):\n",
    "    firstletter = s[0]\n",
    "    s[1:].replace(s[0],'*')\n",
    "    return s[0]+s[1:].replace(s[0],'*')\n",
    "\n",
    "toto = 'babble'\n",
    "print(toto)\n",
    "print(fix_start(toto))"
   ]
  },
  {
   "cell_type": "raw",
   "metadata": {},
   "source": [
    "# D. MixUp\n",
    "# Given strings a and b, return a single string with a and b separated\n",
    "# by a space '<a> <b>', except swap the first 2 chars of each string.\n",
    "# e.g.\n",
    "#   'mix', 'pod' -> 'pox mid'\n",
    "#   'dog', 'dinner' -> 'dig donner'\n",
    "# Assume a and b are length 2 or more.\n",
    "def mix_up(a, b):\n",
    "  # +++your code here+++\n",
    "  return\n"
   ]
  },
  {
   "cell_type": "code",
   "execution_count": 17,
   "metadata": {},
   "outputs": [
    {
     "name": "stdout",
     "output_type": "stream",
     "text": [
      "pox mid\n",
      "dig donner\n"
     ]
    }
   ],
   "source": [
    "def mix_up(a, b):\n",
    "    return b[0:2]+a[2:]+' '+a[0:2]+b[2:]\n",
    "\n",
    "print(mix_up('mix', 'pod'))\n",
    "print(mix_up('dog', 'dinner'))"
   ]
  },
  {
   "cell_type": "raw",
   "metadata": {},
   "source": [
    "# Provided simple test() function used in main() to print\n",
    "# what each function returns vs. what it's supposed to return.\n",
    "def test(got, expected):\n",
    "  if got == expected:\n",
    "    prefix = ' OK '\n",
    "  else:\n",
    "    prefix = '  X '\n",
    "  print '%s got: %s expected: %s' % (prefix, repr(got), repr(expected))\n",
    "# Provided main() calls the above functions with interesting inputs,\n",
    "# using test() to check if each result is correct or not.\n",
    "def main():\n",
    "  print 'donuts'\n",
    "  # Each line calls donuts, compares its result to the expected for that call.\n",
    "  test(donuts(4), 'Number of donuts: 4')\n",
    "  test(donuts(9), 'Number of donuts: 9')\n",
    "  test(donuts(10), 'Number of donuts: many')\n",
    "  test(donuts(99), 'Number of donuts: many')\n",
    "\n",
    "  print\n",
    "  print 'both_ends'\n",
    "  test(both_ends('spring'), 'spng')\n",
    "  test(both_ends('Hello'), 'Helo')\n",
    "  test(both_ends('a'), '')\n",
    "  test(both_ends('xyz'), 'xyyz')\n",
    "  \n",
    "  print\n",
    "  print 'fix_start'\n",
    "  test(fix_start('babble'), 'ba**le')\n",
    "  test(fix_start('aardvark'), 'a*rdv*rk')\n",
    "  test(fix_start('google'), 'goo*le')\n",
    "  test(fix_start('donut'), 'donut')\n",
    "\n",
    "  print\n",
    "  print 'mix_up'\n",
    "  test(mix_up('mix', 'pod'), 'pox mid')\n",
    "  test(mix_up('dog', 'dinner'), 'dig donner')\n",
    "  test(mix_up('gnash', 'sport'), 'spash gnort')\n",
    "  test(mix_up('pezzy', 'firm'), 'fizzy perm')\n",
    "\n",
    "\n",
    "# Standard boilerplate to call the main() function.\n",
    "if __name__ == '__main__':\n",
    "  main()\n",
    "\n",
    "  # NB syntaxe python 2 pour le print : je rajoute les parentheses ..."
   ]
  },
  {
   "cell_type": "code",
   "execution_count": 21,
   "metadata": {},
   "outputs": [
    {
     "name": "stdout",
     "output_type": "stream",
     "text": [
      "donuts\n",
      " OK  got: 'Number of donuts: 4' expected: 'Number of donuts: 4'\n",
      " OK  got: 'Number of donuts: 9' expected: 'Number of donuts: 9'\n",
      " OK  got: 'Number of donuts: many' expected: 'Number of donuts: many'\n",
      " OK  got: 'Number of donuts: many' expected: 'Number of donuts: many'\n",
      "\n",
      "both_ends\n",
      " OK  got: 'spng' expected: 'spng'\n",
      " OK  got: 'Helo' expected: 'Helo'\n",
      " OK  got: '' expected: ''\n",
      " OK  got: 'xyyz' expected: 'xyyz'\n",
      "\n",
      "fix_start\n",
      " OK  got: 'ba**le' expected: 'ba**le'\n",
      " OK  got: 'a*rdv*rk' expected: 'a*rdv*rk'\n",
      " OK  got: 'goo*le' expected: 'goo*le'\n",
      " OK  got: 'donut' expected: 'donut'\n",
      "\n",
      "mix_up\n",
      " OK  got: 'pox mid' expected: 'pox mid'\n",
      " OK  got: 'dig donner' expected: 'dig donner'\n",
      " OK  got: 'spash gnort' expected: 'spash gnort'\n",
      " OK  got: 'fizzy perm' expected: 'fizzy perm'\n"
     ]
    }
   ],
   "source": [
    "def test(got, expected):\n",
    "    if got == expected:\n",
    "        prefix = ' OK '\n",
    "    else:\n",
    "        prefix = '  X '\n",
    "    print('%s got: %s expected: %s' % (prefix, repr(got), repr(expected)))\n",
    "\n",
    "def main():\n",
    "    print('donuts')\n",
    "    # Each line calls donuts, compares its result to the expected for that call.\n",
    "    test(donuts(4), 'Number of donuts: 4')\n",
    "    test(donuts(9), 'Number of donuts: 9')\n",
    "    test(donuts(10), 'Number of donuts: many')\n",
    "    test(donuts(99), 'Number of donuts: many')\n",
    "    print()\n",
    "    print('both_ends')\n",
    "    test(both_ends('spring'), 'spng')\n",
    "    test(both_ends('Hello'), 'Helo')\n",
    "    test(both_ends('a'), '')\n",
    "    test(both_ends('xyz'), 'xyyz')\n",
    "\n",
    "    print()\n",
    "    print('fix_start')\n",
    "    test(fix_start('babble'), 'ba**le')\n",
    "    test(fix_start('aardvark'), 'a*rdv*rk')\n",
    "    test(fix_start('google'), 'goo*le')\n",
    "    test(fix_start('donut'), 'donut')\n",
    "\n",
    "    print()\n",
    "    print('mix_up')\n",
    "    test(mix_up('mix', 'pod'), 'pox mid')\n",
    "    test(mix_up('dog', 'dinner'), 'dig donner')\n",
    "    test(mix_up('gnash', 'sport'), 'spash gnort')\n",
    "    test(mix_up('pezzy', 'firm'), 'fizzy perm')\n",
    "\n",
    "\n",
    "# Standard boilerplate to call the main() function.\n",
    "#if __name__ == '__main__':\n",
    "main()"
   ]
  },
  {
   "cell_type": "markdown",
   "metadata": {},
   "source": [
    "# String2.py"
   ]
  },
  {
   "cell_type": "raw",
   "metadata": {},
   "source": [
    "# D. verbing\n",
    "# Given a string, if its length is at least 3,\n",
    "# add 'ing' to its end.\n",
    "# Unless it already ends in 'ing', in which case\n",
    "# add 'ly' instead.\n",
    "# If the string length is less than 3, leave it unchanged.\n",
    "# Return the resulting string.\n",
    "def verbing(s):\n",
    "  # +++your code here+++\n",
    "  return\n"
   ]
  },
  {
   "cell_type": "code",
   "execution_count": 24,
   "metadata": {},
   "outputs": [],
   "source": [
    "def verbing(s):\n",
    "    if len(s)<3 : return s\n",
    "    if s[-3:]=='ing' : return s+'ly'\n",
    "    return s+'ing'"
   ]
  },
  {
   "cell_type": "raw",
   "metadata": {},
   "source": [
    "# E. not_bad\n",
    "# Given a string, find the first appearance of the\n",
    "# substring 'not' and 'bad'. If the 'bad' follows\n",
    "# the 'not', replace the whole 'not'...'bad' substring\n",
    "# with 'good'.\n",
    "# Return the resulting string.\n",
    "# So 'This dinner is not that bad!' yields:\n",
    "# This dinner is good!\n",
    "def not_bad(s):\n",
    "  # +++your code here+++\n",
    "  return"
   ]
  },
  {
   "cell_type": "code",
   "execution_count": 31,
   "metadata": {},
   "outputs": [],
   "source": [
    "def not_bad(s):\n",
    "    p1 = s.find('not')\n",
    "    p2 = s.find('bad')\n",
    "    if p1>=0 and p2>0 and p1<p2 : return s[:p1]+'good'+s[p2+3:]\n",
    "    return s"
   ]
  },
  {
   "cell_type": "raw",
   "metadata": {},
   "source": [
    "# F. front_back\n",
    "# Consider dividing a string into two halves.\n",
    "# If the length is even, the front and back halves are the same length.\n",
    "# If the length is odd, we'll say that the extra char goes in the front half.\n",
    "# e.g. 'abcde', the front half is 'abc', the back half 'de'.\n",
    "# Given 2 strings, a and b, return a string of the form\n",
    "#  a-front + b-front + a-back + b-back\n",
    "def front_back(a, b):\n",
    "  # +++your code here+++\n",
    "  return"
   ]
  },
  {
   "cell_type": "code",
   "execution_count": 52,
   "metadata": {},
   "outputs": [],
   "source": [
    "def front_back(a, b):\n",
    "    ahalfpos=len(a+'0')//2 # division entiere sur 1 char de plus => pair +1 //2 ==pair //2 et impair+1//2 = arrondi au sup\n",
    "    bhalfpos=len(b+'0')//2 # division entiere\n",
    "    return a[:ahalfpos] + b[:bhalfpos] + a[ahalfpos:] + b[bhalfpos:] "
   ]
  },
  {
   "cell_type": "code",
   "execution_count": 53,
   "metadata": {},
   "outputs": [
    {
     "name": "stdout",
     "output_type": "stream",
     "text": [
      "verbing\n",
      " OK  got: 'hailing' expected: 'hailing'\n",
      " OK  got: 'swimingly' expected: 'swimingly'\n",
      " OK  got: 'do' expected: 'do'\n",
      "\n",
      "not_bad\n",
      " OK  got: 'This movie is good' expected: 'This movie is good'\n",
      " OK  got: 'This dinner is good!' expected: 'This dinner is good!'\n",
      " OK  got: 'This tea is not hot' expected: 'This tea is not hot'\n",
      " OK  got: \"It's bad yet not\" expected: \"It's bad yet not\"\n",
      "\n",
      "front_back\n",
      " OK  got: 'abxcdy' expected: 'abxcdy'\n",
      " OK  got: 'abcxydez' expected: 'abcxydez'\n",
      " OK  got: 'KitDontenut' expected: 'KitDontenut'\n"
     ]
    }
   ],
   "source": [
    "# Verifs de fin de fichier\n",
    "print('verbing')\n",
    "test(verbing('hail'), 'hailing')\n",
    "test(verbing('swiming'), 'swimingly')\n",
    "test(verbing('do'), 'do')\n",
    "\n",
    "print()\n",
    "print('not_bad')\n",
    "test(not_bad('This movie is not so bad'), 'This movie is good')\n",
    "test(not_bad('This dinner is not that bad!'), 'This dinner is good!')\n",
    "test(not_bad('This tea is not hot'), 'This tea is not hot')\n",
    "test(not_bad(\"It's bad yet not\"), \"It's bad yet not\")\n",
    "\n",
    "print()\n",
    "print('front_back')\n",
    "test(front_back('abcd', 'xy'), 'abxcdy')\n",
    "test(front_back('abcde', 'xyz'), 'abcxydez')\n",
    "test(front_back('Kitten', 'Donut'), 'KitDontenut')\n",
    "\n",
    "\n"
   ]
  },
  {
   "cell_type": "markdown",
   "metadata": {},
   "source": [
    "# List\n",
    "# List1.py"
   ]
  },
  {
   "cell_type": "raw",
   "metadata": {},
   "source": [
    "# A. match_ends\n",
    "# Given a list of strings, return the count of the number of\n",
    "# strings where the string length is 2 or more and the first\n",
    "# and last chars of the string are the same.\n",
    "# Note: python does not have a ++ operator, but += works.\n",
    "def match_ends(words):\n",
    "  # +++your code here+++\n",
    "  return\n"
   ]
  },
  {
   "cell_type": "code",
   "execution_count": 54,
   "metadata": {},
   "outputs": [],
   "source": [
    "def match_ends(words):\n",
    "    outputcount = 0\n",
    "    for word in words:\n",
    "            if len(word)>1 and word[0]==word[-1]: outputcount +=1\n",
    "    return outputcount"
   ]
  },
  {
   "cell_type": "raw",
   "metadata": {},
   "source": [
    "# B. front_x\n",
    "# Given a list of strings, return a list with the strings\n",
    "# in sorted order, except group all the strings that begin with 'x' first.\n",
    "# e.g. ['mix', 'xyz', 'apple', 'xanadu', 'aardvark'] yields\n",
    "# ['xanadu', 'xyz', 'aardvark', 'apple', 'mix']\n",
    "# Hint: this can be done by making 2 lists and sorting each of them\n",
    "# before combining them.\n",
    "def front_x(words):\n",
    "  # +++your code here+++\n",
    "  return"
   ]
  },
  {
   "cell_type": "code",
   "execution_count": 62,
   "metadata": {},
   "outputs": [],
   "source": [
    "def front_x(words):\n",
    "    xlist = []\n",
    "    zlist = []\n",
    "    for word in words:\n",
    "        if word[0]=='x':xlist += [word]\n",
    "        else: zlist += [word]\n",
    "    return sorted(xlist)+sorted(zlist)"
   ]
  },
  {
   "cell_type": "raw",
   "metadata": {},
   "source": [
    "# C. sort_last\n",
    "# Given a list of non-empty tuples, return a list sorted in increasing\n",
    "# order by the last element in each tuple.\n",
    "# e.g. [(1, 7), (1, 3), (3, 4, 5), (2, 2)] yields\n",
    "# [(2, 2), (1, 3), (3, 4, 5), (1, 7)]\n",
    "# Hint: use a custom key= function to extract the last element form each tuple.\n",
    "def sort_last(tuples):\n",
    "  # +++your code here+++\n",
    "  return"
   ]
  },
  {
   "cell_type": "code",
   "execution_count": 74,
   "metadata": {},
   "outputs": [],
   "source": [
    "def sort_last(tuples):\n",
    "    return sorted(tuples, key=(lambda x:x[-1])) # normalement dans le lambda on travaille sur 1 elem pas sur tupleS\n",
    "    "
   ]
  },
  {
   "cell_type": "code",
   "execution_count": 75,
   "metadata": {},
   "outputs": [
    {
     "name": "stdout",
     "output_type": "stream",
     "text": [
      "match_ends\n",
      " OK  got: 3 expected: 3\n",
      " OK  got: 2 expected: 2\n",
      " OK  got: 1 expected: 1\n",
      "\n",
      "front_x\n",
      " OK  got: ['xaa', 'xzz', 'axx', 'bbb', 'ccc'] expected: ['xaa', 'xzz', 'axx', 'bbb', 'ccc']\n",
      " OK  got: ['xaa', 'xcc', 'aaa', 'bbb', 'ccc'] expected: ['xaa', 'xcc', 'aaa', 'bbb', 'ccc']\n",
      " OK  got: ['xanadu', 'xyz', 'aardvark', 'apple', 'mix'] expected: ['xanadu', 'xyz', 'aardvark', 'apple', 'mix']\n",
      "\n",
      "sort_last\n",
      " OK  got: [(2, 1), (3, 2), (1, 3)] expected: [(2, 1), (3, 2), (1, 3)]\n",
      " OK  got: [(3, 1), (1, 2), (2, 3)] expected: [(3, 1), (1, 2), (2, 3)]\n",
      " OK  got: [(2, 2), (1, 3), (3, 4, 5), (1, 7)] expected: [(2, 2), (1, 3), (3, 4, 5), (1, 7)]\n"
     ]
    }
   ],
   "source": [
    "print('match_ends')\n",
    "test(match_ends(['aba', 'xyz', 'aa', 'x', 'bbb']), 3)\n",
    "test(match_ends(['', 'x', 'xy', 'xyx', 'xx']), 2)\n",
    "test(match_ends(['aaa', 'be', 'abc', 'hello']), 1)\n",
    "\n",
    "print()\n",
    "print ('front_x')\n",
    "test(front_x(['bbb', 'ccc', 'axx', 'xzz', 'xaa']),\n",
    "       ['xaa', 'xzz', 'axx', 'bbb', 'ccc'])\n",
    "test(front_x(['ccc', 'bbb', 'aaa', 'xcc', 'xaa']),\n",
    "       ['xaa', 'xcc', 'aaa', 'bbb', 'ccc'])\n",
    "test(front_x(['mix', 'xyz', 'apple', 'xanadu', 'aardvark']),\n",
    "       ['xanadu', 'xyz', 'aardvark', 'apple', 'mix'])\n",
    "\n",
    "print()\n",
    "print ('sort_last')\n",
    "test(sort_last([(1, 3), (3, 2), (2, 1)]),\n",
    "       [(2, 1), (3, 2), (1, 3)])\n",
    "test(sort_last([(2, 3), (1, 2), (3, 1)]),\n",
    "       [(3, 1), (1, 2), (2, 3)])\n",
    "test(sort_last([(1, 7), (1, 3), (3, 4, 5), (2, 2)]),\n",
    "       [(2, 2), (1, 3), (3, 4, 5), (1, 7)])\n"
   ]
  },
  {
   "cell_type": "markdown",
   "metadata": {},
   "source": [
    "# List2.py"
   ]
  },
  {
   "cell_type": "raw",
   "metadata": {},
   "source": [
    "# D. Given a list of numbers, return a list where\n",
    "# all adjacent == elements have been reduced to a single element,\n",
    "# so [1, 2, 2, 3] returns [1, 2, 3]. You may create a new list or\n",
    "# modify the passed in list.\n",
    "def remove_adjacent(nums):\n",
    "  # +++your code here+++\n",
    "  return"
   ]
  },
  {
   "cell_type": "code",
   "execution_count": 86,
   "metadata": {},
   "outputs": [],
   "source": [
    "def remove_adjacent(nums):\n",
    "    previouselem = -1000000000000\n",
    "    outlist = []\n",
    "    for anum in nums:\n",
    "        if anum != previouselem:\n",
    "            outlist.append(anum)\n",
    "            previouselem = anum\n",
    "    return outlist\n"
   ]
  },
  {
   "cell_type": "raw",
   "metadata": {},
   "source": [
    "# E. Given two lists sorted in increasing order, create and return a merged\n",
    "# list of all the elements in sorted order. You may modify the passed in lists.\n",
    "# Ideally, the solution should work in \"linear\" time, making a single\n",
    "# pass of both lists.\n",
    "def linear_merge(list1, list2):\n",
    "  # +++your code here+++\n",
    "  return\n",
    "\n",
    "# Note: the solution above is kind of cute, but unforunately list.pop(0)\n",
    "# is not constant time with the standard python list implementation, so\n",
    "# the above is not strictly linear time.\n",
    "# An alternate approach uses pop(-1) to remove the endmost elements\n",
    "# from each list, building a solution list which is backwards.\n",
    "# Then use reversed() to put the result back in the correct order. That\n",
    "# solution works in linear time, but is more ugly."
   ]
  },
  {
   "cell_type": "code",
   "execution_count": 89,
   "metadata": {},
   "outputs": [],
   "source": [
    "def linear_merge(list1, list2):\n",
    "    cptrL1 = 0\n",
    "    max1 = len(list1)\n",
    "    cptrL2 = 0\n",
    "    max2 = len(list2)\n",
    "    outsortedlist = []\n",
    "    while True:\n",
    "        if (cptrL1 == max1 and cptrL2 == max2): break\n",
    "        elif (cptrL1 == max1 and cptrL2 < max2):\n",
    "            outsortedlist.append(list2[cptrL2])\n",
    "            cptrL2 += 1\n",
    "        elif (cptrL2 == max2 and cptrL1 < max1):\n",
    "            outsortedlist.append(list1[cptrL1])\n",
    "            cptrL1 += 1\n",
    "        elif list1[cptrL1] < list2[cptrL2]:\n",
    "            outsortedlist.append(list1[cptrL1])\n",
    "            cptrL1 += 1\n",
    "        else :\n",
    "            outsortedlist.append(list2[cptrL2])\n",
    "            cptrL2 += 1\n",
    "    return outsortedlist"
   ]
  },
  {
   "cell_type": "code",
   "execution_count": 90,
   "metadata": {},
   "outputs": [
    {
     "name": "stdout",
     "output_type": "stream",
     "text": [
      "remove_adjacent\n",
      " OK  got: [1, 2, 3] expected: [1, 2, 3]\n",
      " OK  got: [2, 3] expected: [2, 3]\n",
      " OK  got: [] expected: []\n",
      "\n",
      "linear_merge\n",
      " OK  got: ['aa', 'bb', 'cc', 'xx', 'zz'] expected: ['aa', 'bb', 'cc', 'xx', 'zz']\n",
      " OK  got: ['aa', 'bb', 'cc', 'xx', 'zz'] expected: ['aa', 'bb', 'cc', 'xx', 'zz']\n",
      " OK  got: ['aa', 'aa', 'aa', 'bb', 'bb'] expected: ['aa', 'aa', 'aa', 'bb', 'bb']\n"
     ]
    }
   ],
   "source": [
    "print('remove_adjacent')\n",
    "test(remove_adjacent([1, 2, 2, 3]), [1, 2, 3])\n",
    "test(remove_adjacent([2, 2, 3, 3, 3]), [2, 3])\n",
    "test(remove_adjacent([]), [])\n",
    "\n",
    "print()\n",
    "print('linear_merge')\n",
    "test(linear_merge(['aa', 'xx', 'zz'], ['bb', 'cc']),\n",
    "       ['aa', 'bb', 'cc', 'xx', 'zz'])\n",
    "test(linear_merge(['aa', 'xx'], ['bb', 'cc', 'zz']),\n",
    "       ['aa', 'bb', 'cc', 'xx', 'zz'])\n",
    "test(linear_merge(['aa', 'aa'], ['aa', 'bb', 'bb']),\n",
    "       ['aa', 'aa', 'aa', 'bb', 'bb'])\n"
   ]
  },
  {
   "cell_type": "markdown",
   "metadata": {},
   "source": [
    "# Wordcount.py"
   ]
  },
  {
   "cell_type": "raw",
   "metadata": {},
   "source": [
    "1. For the --count flag, implement a print_words(filename) function that counts\n",
    "how often each word appears in the text and prints:\n",
    "word1 count1\n",
    "word2 count2\n",
    "...\n",
    "\n",
    "Print the above list in order sorted by word (python will sort punctuation to\n",
    "come before letters -- that's fine). Store all the words as lowercase,\n",
    "so 'The' and 'the' count as the same word.\n",
    "\n",
    "2. For the --topcount flag, implement a print_top(filename) which is similar\n",
    "to print_words() but which prints just the top 20 most common words sorted\n",
    "so the most common word is first, then the next most common, and so on.\n",
    "\n",
    "Use str.split() (no arguments) to split on all whitespace.\n",
    "\n",
    "Workflow: don't build the whole program at once. Get it to an intermediate\n",
    "milestone and print your data structure and sys.exit(0).\n",
    "When that's working, try for the next milestone.\n",
    "\n",
    "Optional: define a helper function to avoid code duplication inside\n",
    "print_words() and print_top().\n"
   ]
  },
  {
   "cell_type": "code",
   "execution_count": 117,
   "metadata": {},
   "outputs": [],
   "source": [
    "from collections import Counter\n",
    "\n",
    "def sharedpart(filename):\n",
    "    # mettre le fichier en memoire ... voir plus tard ce qu'il y aurait de mieux ...\n",
    "    f = open(filename, 'r')\n",
    "    wordlist = []\n",
    "    for line in f:\n",
    "        wordlist+=line.lower().split()\n",
    "    f.close()\n",
    "    return Counter(wordlist)\n",
    "\n",
    "\n",
    "def print_words(filename):\n",
    "    c = sharedpart(filename)\n",
    "    dc = dict(c)\n",
    "    for mot in sorted(dc.keys()):\n",
    "        print('%s %s' % (mot,dc[mot]))\n",
    "    return\n",
    "\n",
    "def print_top(filename):\n",
    "    c = sharedpart(filename)\n",
    "    for mot,cnt in c.most_common(20):\n",
    "        print('%s %s' % (mot,cnt))\n",
    "    return"
   ]
  },
  {
   "cell_type": "code",
   "execution_count": 118,
   "metadata": {},
   "outputs": [
    {
     "name": "stdout",
     "output_type": "stream",
     "text": [
      "########## print_words #############\n",
      "-- 1\n",
      "are 3\n",
      "at 1\n",
      "be 3\n",
      "but 1\n",
      "coach 1\n",
      "football 1\n",
      "least 1\n",
      "need 1\n",
      "not 3\n",
      "should 1\n",
      "to 2\n",
      "used 1\n",
      "we 6\n",
      "what 3\n",
      "##########  print_top  #############\n",
      "the 1605\n",
      "and 766\n",
      "to 706\n",
      "a 614\n",
      "she 518\n",
      "of 493\n",
      "said 421\n",
      "it 362\n",
      "in 352\n",
      "was 333\n",
      "you 265\n",
      "i 261\n",
      "as 249\n",
      "that 222\n",
      "alice 221\n",
      "her 208\n",
      "at 206\n",
      "had 176\n",
      "with 169\n",
      "all 155\n"
     ]
    }
   ],
   "source": [
    "print('########## print_words #############')\n",
    "print_words('./small.txt')\n",
    "print('##########  print_top  #############')\n",
    "print_top('./alice.txt')\n"
   ]
  },
  {
   "cell_type": "markdown",
   "metadata": {},
   "source": [
    "# mimic.py"
   ]
  },
  {
   "cell_type": "raw",
   "metadata": {},
   "source": [
    "Read in the file specified on the command line.\n",
    "Do a simple split() on whitespace to obtain all the words in the file.\n",
    "Rather than read the file line by line, it's easier to read\n",
    "it into one giant string and split it once.\n",
    "\n",
    "Build a \"mimic\" dict that maps each word that appears in the file\n",
    "to a list of all the words that immediately follow that word in the file.\n",
    "The list of words can be be in any order and should include\n",
    "duplicates. So for example the key \"and\" might have the list\n",
    "[\"then\", \"best\", \"then\", \"after\", ...] listing\n",
    "all the words which came after \"and\" in the text.\n",
    "We'll say that the empty string is what comes before\n",
    "the first word in the file.\n",
    "\n",
    "With the mimic dict, it's fairly easy to emit random\n",
    "text that mimics the original. Print a word, then look\n",
    "up what words might come next and pick one at random as\n",
    "the next work.\n",
    "Use the empty string as the first word to prime things.\n",
    "If we ever get stuck with a word that is not in the dict,\n",
    "go back to the empty string to keep things moving.\n",
    "\n",
    "Note: the standard python module 'random' includes a\n",
    "random.choice(list) method which picks a random element\n",
    "from a non-empty list.\n",
    "\n",
    "For fun, feed your program to itself as input.\n",
    "Could work on getting it to put in linebreaks around 70\n",
    "columns, so the output looks better."
   ]
  },
  {
   "cell_type": "code",
   "execution_count": 197,
   "metadata": {},
   "outputs": [],
   "source": [
    "import random\n",
    "\n",
    "def mimic_dict(filename):\n",
    "    \"\"\"Returns mimic dict mapping each word to list of words which follow it.\"\"\"\n",
    "    # mettre le fichier en memoire ... voir plus tard ce qu'il y aurait de mieux ...\n",
    "    f = open(filename, 'r')\n",
    "    mimicdic = {}\n",
    "    previous = ''\n",
    "    for word in f.read().lower().split():\n",
    "        if word is not None:\n",
    "#            print('word: ',previous,'|',word)\n",
    "            if not previous in mimicdic:\n",
    "                mimicdic[previous] = [str(word)]\n",
    "#                print('done',mimicdic[previous])\n",
    "            else:\n",
    "#                print('debug',previous,mimicdic.get(previous),word)\n",
    "                mimicdic[previous].append(str(word)) # c'est la que ca merdiat vu que previous est une liste donc un pointeur si je reaffecte parfois je la perds...\n",
    "            previous = str(word)\n",
    "    f.close()\n",
    "    print(mimicdic)\n",
    "    return mimicdic\n",
    "    \n",
    "def print_mimic(mimic_dict, word):\n",
    "    prevword = word\n",
    "    for i in range(10):\n",
    "        candids = mimic_dict.get(prevword)\n",
    "        if not candids:\n",
    "            candids = mimic_dict.get('')\n",
    "        nextword = random.choice(candids)\n",
    "        print(nextword)\n",
    "        prevword=nextword\n",
    "    \"\"\"Given mimic dict and start word, prints 200 random words.\"\"\"\n",
    "    # +++your code here+++\n",
    "    return\n",
    "\n"
   ]
  },
  {
   "cell_type": "code",
   "execution_count": 198,
   "metadata": {},
   "outputs": [
    {
     "name": "stdout",
     "output_type": "stream",
     "text": [
      "word:   | we\n",
      "done ['we']\n",
      "word:  we | are\n",
      "done ['are']\n",
      "word:  are | not\n",
      "done ['not']\n",
      "word:  not | what\n",
      "done ['what']\n",
      "word:  what | we\n",
      "done ['we']\n",
      "word:  we | should\n",
      "debug we ['are'] should\n",
      "word:  should | be\n",
      "done ['be']\n",
      "word:  be | we\n",
      "done ['we']\n",
      "word:  we | are\n",
      "debug we ['are', 'should'] are\n",
      "word:  are | not\n",
      "debug are ['not'] not\n",
      "word:  not | what\n",
      "debug not ['what'] what\n",
      "word:  what | we\n",
      "debug what ['we'] we\n",
      "word:  we | need\n",
      "debug we ['are', 'should', 'are'] need\n",
      "word:  need | to\n",
      "done ['to']\n",
      "word:  to | be\n",
      "done ['be']\n",
      "word:  be | but\n",
      "debug be ['we'] but\n",
      "word:  but | at\n",
      "done ['at']\n",
      "word:  at | least\n",
      "done ['least']\n",
      "word:  least | we\n",
      "done ['we']\n",
      "word:  we | are\n",
      "debug we ['are', 'should', 'are', 'need'] are\n",
      "word:  are | not\n",
      "debug are ['not', 'not'] not\n",
      "word:  not | what\n",
      "debug not ['what', 'what'] what\n",
      "word:  what | we\n",
      "debug what ['we', 'we'] we\n",
      "word:  we | used\n",
      "debug we ['are', 'should', 'are', 'need', 'are'] used\n",
      "word:  used | to\n",
      "done ['to']\n",
      "word:  to | be\n",
      "debug to ['be'] be\n",
      "word:  be | --\n",
      "debug be ['we', 'but'] --\n",
      "word:  -- | football\n",
      "done ['football']\n",
      "word:  football | coach\n",
      "done ['coach']\n",
      "{'': ['we'], 'we': ['are', 'should', 'are', 'need', 'are', 'used'], 'are': ['not', 'not', 'not'], 'not': ['what', 'what', 'what'], 'what': ['we', 'we', 'we'], 'should': ['be'], 'be': ['we', 'but', '--'], 'need': ['to'], 'to': ['be', 'be'], 'but': ['at'], 'at': ['least'], 'least': ['we'], 'used': ['to'], '--': ['football'], 'football': ['coach']}\n",
      "we\n",
      "used\n",
      "to\n",
      "be\n",
      "we\n",
      "are\n",
      "not\n",
      "what\n",
      "we\n",
      "are\n"
     ]
    }
   ],
   "source": [
    "#equiv du main\n",
    "\n",
    "tdict = mimic_dict('./small.txt')\n",
    "print_mimic(tdict, 'what')\n"
   ]
  },
  {
   "cell_type": "code",
   "execution_count": null,
   "metadata": {},
   "outputs": [],
   "source": []
  }
 ],
 "metadata": {
  "kernelspec": {
   "display_name": "Python 3",
   "language": "python",
   "name": "python3"
  },
  "language_info": {
   "codemirror_mode": {
    "name": "ipython",
    "version": 3
   },
   "file_extension": ".py",
   "mimetype": "text/x-python",
   "name": "python",
   "nbconvert_exporter": "python",
   "pygments_lexer": "ipython3",
   "version": "3.6.5"
  }
 },
 "nbformat": 4,
 "nbformat_minor": 2
}
